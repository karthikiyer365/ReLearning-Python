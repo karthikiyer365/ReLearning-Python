{
  "cells": [
    {
      "cell_type": "markdown",
      "metadata": {},
      "source": [
        "This is an example of the Basics of Dictonary and List handling in python. \n",
        "This file works upon moving past the basics, viz. Data Types(Int, Float, Str etc), Conditional logic statements,  looping syntax, function definition and calls.\n",
        "\n",
        "Focusing on the rather unique python features i.e. dictonaries, lists and data handling "
      ]
    },
    {
      "cell_type": "markdown",
      "metadata": {
        "id": "eDLu9Zvgfuvq"
      },
      "source": [
        "# Setup"
      ]
    },
    {
      "cell_type": "code",
      "execution_count": 1,
      "metadata": {
        "colab": {
          "base_uri": "https://localhost:8080/"
        },
        "id": "4_kC0rW0Dsd7",
        "outputId": "2a8433ae-01dd-4473-c0fa-320f1441d5d3"
      },
      "outputs": [
        {
          "name": "stdout",
          "output_type": "stream",
          "text": [
            "$12,345.68\n"
          ]
        }
      ],
      "source": [
        "# SETUP CELL (run and leave as-is)\n",
        "#This cell outlines the defination and testing of a function.\n",
        "#This function will be used ahead.\n",
        "\n",
        "from operator import itemgetter #Itemgetter method : used to interate and fetch items in any interable Data Structure i.e. List, Set Tuple\n",
        "\n",
        "def to_usd(my_price):\n",
        "    return f\"${my_price:,.2f}\" #> $12,000.71\n",
        "\n",
        "\n",
        "# example tests and invocations for the function:\n",
        "assert to_usd(3.5) == \"$3.50\"\n",
        "assert to_usd(4.44444) == \"$4.44\"\n",
        "assert to_usd(1234567890) == \"$1,234,567,890.00\"\n",
        "print(to_usd(12345.6789))"
      ]
    },
    {
      "cell_type": "code",
      "execution_count": 2,
      "metadata": {
        "id": "bMCg7sm9UuKL"
      },
      "outputs": [],
      "source": [
        "\n",
        "# SETUP CELL (run and leave as-is)\n",
        "#This Cell defines our DataSet i.e. 'products'\n",
        "#'products' is a List of Dictionaries meaning, it is a comma seperated group of multiple similarly formatted dictionaries.\n",
        "\n",
        "products = [\n",
        "    {\"id\":1, \"name\": \"Chocolate Sandwich Cookies\", \"department\": \"snacks\", \"aisle\": \"cookies cakes\", \"price\": 3.50},\n",
        "    {\"id\":2, \"name\": \"All-Seasons Salt\", \"department\": \"pantry\", \"aisle\": \"spices seasonings\", \"price\": 4.99},\n",
        "    {\"id\":3, \"name\": \"Robust Golden Unsweetened Oolong Tea\", \"department\": \"beverages\", \"aisle\": \"tea\", \"price\": 2.49},\n",
        "    {\"id\":4, \"name\": \"Smart Ones Classic Favorites Mini Rigatoni With Vodka Cream Sauce\", \"department\": \"frozen\", \"aisle\": \"frozen meals\", \"price\": 6.99},\n",
        "    {\"id\":5, \"name\": \"Green Chile Anytime Sauce\", \"department\": \"pantry\", \"aisle\": \"marinades meat preparation\", \"price\": 7.99},\n",
        "    {\"id\":6, \"name\": \"Dry Nose Oil\", \"department\": \"personal care\", \"aisle\": \"cold flu allergy\", \"price\": 21.99},\n",
        "    {\"id\":7, \"name\": \"Pure Coconut Water With Orange\", \"department\": \"beverages\", \"aisle\": \"juice nectars\", \"price\": 3.50},\n",
        "    {\"id\":8, \"name\": \"Cut Russet Potatoes Steam N' Mash\", \"department\": \"frozen\", \"aisle\": \"frozen produce\", \"price\": 4.25},\n",
        "    {\"id\":9, \"name\": \"Light Strawberry Blueberry Yogurt\", \"department\": \"dairy eggs\", \"aisle\": \"yogurt\", \"price\": 6.50},\n",
        "    {\"id\":10, \"name\": \"Sparkling Orange Juice & Prickly Pear Beverage\", \"department\": \"beverages\", \"aisle\": \"water seltzer sparkling water\", \"price\": 2.99},\n",
        "    {\"id\":11, \"name\": \"Peach Mango Juice\", \"department\": \"beverages\", \"aisle\": \"refrigerated\", \"price\": 1.99},\n",
        "    {\"id\":12, \"name\": \"Chocolate Fudge Layer Cake\", \"department\": \"frozen\", \"aisle\": \"frozen dessert\", \"price\": 18.50},\n",
        "    {\"id\":13, \"name\": \"Saline Nasal Mist\", \"department\": \"personal care\", \"aisle\": \"cold flu allergy\", \"price\": 16.00},\n",
        "    {\"id\":14, \"name\": \"Fresh Scent Dishwasher Cleaner\", \"department\": \"household\", \"aisle\": \"dish detergents\", \"price\": 4.99},\n",
        "    {\"id\":15, \"name\": \"Overnight Diapers Size 6\", \"department\": \"babies\", \"aisle\": \"diapers wipes\", \"price\": 25.50},\n",
        "    {\"id\":16, \"name\": \"Mint Chocolate Flavored Syrup\", \"department\": \"snacks\", \"aisle\": \"ice cream toppings\", \"price\": 4.50},\n",
        "    {\"id\":17, \"name\": \"Rendered Duck Fat\", \"department\": \"meat seafood\", \"aisle\": \"poultry counter\", \"price\": 9.99},\n",
        "    {\"id\":18, \"name\": \"Pizza for One Suprema Frozen Pizza\", \"department\": \"frozen\", \"aisle\": \"frozen pizza\", \"price\": 12.50},\n",
        "    {\"id\":19, \"name\": \"Gluten Free Quinoa Three Cheese & Mushroom Blend\", \"department\": \"dry goods pasta\", \"aisle\": \"grains rice dried goods\", \"price\": 3.99},\n",
        "    {\"id\":20, \"name\": \"Pomegranate Cranberry & Aloe Vera Enrich Drink\", \"department\": \"beverages\", \"aisle\": \"juice nectars\", \"price\": 4.25}\n",
        "] # based on data from Instacart: https://www.instacart.com/datasets/grocery-shopping-2017\n"
      ]
    },
    {
      "cell_type": "markdown",
      "metadata": {
        "id": "da-yL2tWU6R8"
      },
      "source": [
        "# Example 1 (Products)\n",
        "\n",
        "Write python code which references the `products` variable to reproduce the following output, representing a human-friendly list of products:\n",
        "\n",
        "```\n",
        "--------------\n",
        "THERE ARE 20 PRODUCTS:\n",
        "--------------\n",
        " + All-Seasons Salt ($4.99)\n",
        " + Chocolate Fudge Layer Cake ($18.50)\n",
        " + Chocolate Sandwich Cookies ($3.50)\n",
        " + Cut Russet Potatoes Steam N' Mash ($4.25)\n",
        " + Dry Nose Oil ($21.99)\n",
        " + Fresh Scent Dishwasher Cleaner ($4.99)\n",
        " + Gluten Free Quinoa Three Cheese & Mushroom Blend ($3.99)\n",
        " + Green Chile Anytime Sauce ($7.99)\n",
        " + Light Strawberry Blueberry Yogurt ($6.50)\n",
        " + Mint Chocolate Flavored Syrup ($4.50)\n",
        " + Overnight Diapers Size 6 ($25.50)\n",
        " + Peach Mango Juice ($1.99)\n",
        " + Pizza For One Suprema Frozen Pizza ($12.50)\n",
        " + Pomegranate Cranberry & Aloe Vera Enrich Drink ($4.25)\n",
        " + Pure Coconut Water With Orange ($3.50)\n",
        " + Rendered Duck Fat ($9.99)\n",
        " + Robust Golden Unsweetened Oolong Tea ($2.49)\n",
        " + Saline Nasal Mist ($16.00)\n",
        " + Smart Ones Classic Favorites Mini Rigatoni With Vodka Cream Sauce ($6.99)\n",
        " + Sparkling Orange Juice & Prickly Pear Beverage ($2.99)\n",
        " ```\n"
      ]
    },
    {
      "cell_type": "code",
      "execution_count": 3,
      "metadata": {
        "colab": {
          "base_uri": "https://localhost:8080/"
        },
        "id": "H5U_nR6cgEon",
        "outputId": "7802edd7-0cce-4538-be8a-7b9f7fb0947c"
      },
      "outputs": [
        {
          "name": "stdout",
          "output_type": "stream",
          "text": [
            "Welcome to my Grocery Store\n",
            "-------------------\n",
            "THERE ARE 20 PRODUCTS\n",
            "-------------------\n",
            "+ All-Seasons Salt ( $4.99 )\n",
            "+ Chocolate Fudge Layer Cake ( $18.50 )\n",
            "+ Chocolate Sandwich Cookies ( $3.50 )\n",
            "+ Cut Russet Potatoes Steam N' Mash ( $4.25 )\n",
            "+ Dry Nose Oil ( $21.99 )\n",
            "+ Fresh Scent Dishwasher Cleaner ( $4.99 )\n",
            "+ Gluten Free Quinoa Three Cheese & Mushroom Blend ( $3.99 )\n",
            "+ Green Chile Anytime Sauce ( $7.99 )\n",
            "+ Light Strawberry Blueberry Yogurt ( $6.50 )\n",
            "+ Mint Chocolate Flavored Syrup ( $4.50 )\n",
            "+ Overnight Diapers Size 6 ( $25.50 )\n",
            "+ Peach Mango Juice ( $1.99 )\n",
            "+ Pizza for One Suprema Frozen Pizza ( $12.50 )\n",
            "+ Pomegranate Cranberry & Aloe Vera Enrich Drink ( $4.25 )\n",
            "+ Pure Coconut Water With Orange ( $3.50 )\n",
            "+ Rendered Duck Fat ( $9.99 )\n",
            "+ Robust Golden Unsweetened Oolong Tea ( $2.49 )\n",
            "+ Saline Nasal Mist ( $16.00 )\n",
            "+ Smart Ones Classic Favorites Mini Rigatoni With Vodka Cream Sauce ( $6.99 )\n",
            "+ Sparkling Orange Juice & Prickly Pear Beverage ( $2.99 )\n"
          ]
        }
      ],
      "source": [
        "# PART 1 CODE HERE!\n",
        "#This part deals with how to interate across a list of dictionaries using dictionary key value pairs as the key attribute\n",
        "\n",
        "print(\"Welcome to my Grocery Store\\n-------------------\\nTHERE ARE\",len(products),\"PRODUCTS\\n-------------------\")\n",
        "for item in sorted(products, key = itemgetter('name')):                                                                 #looping through the list to fetch products info. The list is sorted ascendingly based on Names.\n",
        "    print('+',item['name'],'(',to_usd(item['price']),')')\n",
        "\n"
      ]
    },
    {
      "cell_type": "markdown",
      "metadata": {
        "id": "HJiIxGI7Vw20"
      },
      "source": [
        "# Example 2 (Departments)\n",
        "\n",
        "Write python code which references the `products` variable to reproduce the following output, representing a human-friendly list of departments:\n"
      ]
    },
    {
      "cell_type": "markdown",
      "metadata": {
        "id": "PHGh4bUYVgW2"
      },
      "source": [
        "\n",
        "\n",
        "\n",
        "```\n",
        "--------------\n",
        "THERE ARE 10 DEPARTMENTS:\n",
        "--------------\n",
        " + Babies (1 product)\n",
        " + Beverages (5 products)\n",
        " + Dairy Eggs (1 product)\n",
        " + Dry Goods Pasta (1 product)\n",
        " + Frozen (4 products)\n",
        " + Household (1 product)\n",
        " + Meat Seafood (1 product)\n",
        " + Pantry (2 products)\n",
        " + Personal Care (2 products)\n",
        " + Snacks (2 products)\n",
        " ```"
      ]
    },
    {
      "cell_type": "markdown",
      "metadata": {
        "id": "Fn_OmLTBxZot"
      },
      "source": [
        "> NOTE: there are many ways of counting the corresponding number of products for each department. Consider a counting approach, a filtering approach, or a [`Counter`](https://docs.python.org/3/library/collections.html#collections.Counter) from the `collections` module."
      ]
    },
    {
      "cell_type": "code",
      "execution_count": 4,
      "metadata": {
        "colab": {
          "base_uri": "https://localhost:8080/"
        },
        "id": "snjnvaT-gCVj",
        "outputId": "5ebb1551-71b8-41c6-b7c4-55c402f24018"
      },
      "outputs": [
        {
          "name": "stdout",
          "output_type": "stream",
          "text": [
            "-------------\n",
            " THERE ARE 10 DEPARTMENTS\n",
            "-------------\n",
            "+ Babies ( 1 product)\n",
            "+ Beverages ( 5 products)\n",
            "+ Dairy Eggs ( 1 product)\n",
            "+ Dry Goods Pasta ( 1 product)\n",
            "+ Frozen ( 4 products)\n",
            "+ Household ( 1 product)\n",
            "+ Meat Seafood ( 1 product)\n",
            "+ Pantry ( 2 products)\n",
            "+ Personal Care ( 2 products)\n",
            "+ Snacks ( 2 products)\n"
          ]
        }
      ],
      "source": [
        "# PART 2 CODE HERE!\n",
        "#This part deals with how to aggregate or calculate list information, based of data inside the ditionary. It also shows how leveling works \n",
        "# when dealing with nested Data structures.\n",
        "departments = {}\n",
        "for item in products:\n",
        "    if item['department'] in departments.keys():\n",
        "        departments[item['department']] = departments[item['department']] + 1\n",
        "    else:\n",
        "        departments[item['department']] = 1\n",
        "\n",
        "print(\"-------------\\n THERE ARE\",len(departments),\"DEPARTMENTS\\n-------------\")\n",
        "sortedDept = dict(sorted(departments.items()))\n",
        "for i in sortedDept:\n",
        "    if sortedDept[i]<2:\n",
        "        print(\"+\",i.title(),\"(\",sortedDept[i],\"product)\")\n",
        "    else:\n",
        "        print(\"+\",i.title(),\"(\",sortedDept[i],\"products)\")\n",
        "\n"
      ]
    }
  ],
  "metadata": {
    "colab": {
      "collapsed_sections": [
        "eDLu9Zvgfuvq"
      ],
      "provenance": []
    },
    "kernelspec": {
      "display_name": "Python 3",
      "name": "python3"
    }
  },
  "nbformat": 4,
  "nbformat_minor": 0
}
